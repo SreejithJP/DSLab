{
  "nbformat": 4,
  "nbformat_minor": 0,
  "metadata": {
    "colab": {
      "provenance": []
    },
    "kernelspec": {
      "name": "python3",
      "display_name": "Python 3"
    },
    "language_info": {
      "name": "python"
    }
  },
  "cells": [
    {
      "cell_type": "code",
      "execution_count": null,
      "metadata": {
        "colab": {
          "base_uri": "https://localhost:8080/"
        },
        "id": "E_V27hz6ELSE",
        "outputId": "b02c67f6-7655-4961-d11e-b54be04f7079"
      },
      "outputs": [
        {
          "output_type": "stream",
          "name": "stdout",
          "text": [
            "Requirement already satisfied: gower in /usr/local/lib/python3.10/dist-packages (0.1.2)\n",
            "Requirement already satisfied: numpy in /usr/local/lib/python3.10/dist-packages (from gower) (1.23.5)\n",
            "Requirement already satisfied: scipy in /usr/local/lib/python3.10/dist-packages (from gower) (1.11.3)\n",
            "Manhattan Distance:\n",
            "[[     0.  10004.  60005.  45012.  15007.]\n",
            " [ 10004.      0.  70009.  35008.   5003.]\n",
            " [ 60005.  70009.      0. 105017.  75012.]\n",
            " [ 45012.  35008. 105017.      0.  30005.]\n",
            " [ 15007.   5003.  75012.  30005.      0.]]\n",
            "\n",
            "Euclidean Distance:\n",
            "[[ 0.         40.5092582  20.83266666 61.58733636 12.36931688]\n",
            " [40.5092582   0.         22.02271555 21.63330765 50.57667447]\n",
            " [20.83266666 22.02271555  0.         43.64630569 32.69556545]\n",
            " [61.58733636 21.63330765 43.64630569  0.         70.75309181]\n",
            " [12.36931688 50.57667447 32.69556545 70.75309181  0.        ]]\n",
            "\n",
            "Cosine Similarity:\n",
            "[[1.         0.99999997 0.99995456 0.99999994 0.9999999 ]\n",
            " [0.99999997 1.         0.99995658 0.99999987 0.99999977]\n",
            " [0.99995456 0.99995658 1.         0.99995177 0.99995013]\n",
            " [0.99999994 0.99999987 0.99995177 1.         0.99999997]\n",
            " [0.9999999  0.99999977 0.99995013 0.99999997 1.        ]]\n",
            "\n",
            "Jaccard Similarity:\n",
            "[[1.         0.         0.         0.         0.33333333]\n",
            " [0.         1.         0.33333333 0.33333333 0.        ]\n",
            " [0.         0.33333333 1.         0.33333333 0.        ]\n",
            " [0.         0.33333333 0.33333333 1.         0.        ]\n",
            " [0.33333333 0.         0.         0.         1.        ]]\n",
            "\n",
            "Gower Distance:\n",
            "[[0.         0.6367881  0.64065623 0.82419634 0.41710016]\n",
            " [0.6367881  0.         0.529145   0.47312257 0.67373616]\n",
            " [0.64065623 0.529145   0.         0.7165533  0.77204216]\n",
            " [0.82419634 0.47312257 0.7165533  0.         0.79711884]\n",
            " [0.41710016 0.67373616 0.77204216 0.79711884 0.        ]]\n"
          ]
        }
      ],
      "source": [
        "\n",
        "import numpy as np\n",
        "from scipy.spatial import distance\n",
        "from scipy.spatial.distance import cosine\n",
        "from scipy.spatial.distance import pdist\n",
        "from scipy.spatial.distance import squareform\n",
        "from gower import gower_matrix\n",
        "import pandas as pd\n",
        "data = [\n",
        "    [\"Alice\", 28, \"Female\", \"Engineer\", 75000, 65, 140],\n",
        "    [\"Bob\", 32, \"Male\", \"Data Scientist\", 85000, 70, 180],\n",
        "    [\"Charlie\", 23, \"Male\", \"Student\", 15000, 68, 160],\n",
        "    [\"David\", 40, \"Male\", \"Doctor\", 120000, 72, 200],\n",
        "    [\"Eve\", 35, \"Female\", \"Lawyer\", 90000, 63, 130]\n",
        "]\n",
        "age_income_data = np.array([[row[1], row[4]] for row in data])\n",
        "age_height_weight_data = np.array([[row[1], row[5], row[6]] for row in data])\n",
        "income_height_weight_data = np.array([[row[4], row[5], row[6]] for row in data])\n",
        "gender_occupation_data = np.array([[row[2], row[3]] for row in data])\n",
        "manhattan_distance = np.zeros((len(data), len(data)))\n",
        "for i in range(len(data)):\n",
        "    for j in range(len(data)):\n",
        "        manhattan_distance[i, j] = distance.cityblock(age_income_data[i], age_income_data[j])\n",
        "euclidean_distance = distance.pdist(age_height_weight_data, metric='euclidean')\n",
        "euclidean_distance = distance.squareform(euclidean_distance)\n",
        "cosine_similarity = pdist(income_height_weight_data, metric='cosine')\n",
        "cosine_similarity = 1 - squareform(cosine_similarity)\n",
        "def jaccard_similarity(set1, set2):\n",
        "    intersection = len(set1.intersection(set2))\n",
        "    union = len(set1.union(set2))\n",
        "    return intersection / union\n",
        "\n",
        "jaccard_similarity_matrix = np.zeros((len(gender_occupation_data), len(gender_occupation_data)))\n",
        "for i in range(len(gender_occupation_data)):\n",
        "    for j in range(len(gender_occupation_data)):\n",
        "        jaccard_similarity_matrix[i, j] = jaccard_similarity(set(gender_occupation_data[i]), set(gender_occupation_data[j]))\n",
        "df = pd.DataFrame(data, columns=[\"Name\", \"Age\", \"Gender\", \"Occupation\", \"Income\", \"Height\", \"Weight\"])\n",
        "gower_dist_matrix = gower_matrix(df)\n",
        "print(\"Manhattan Distance:\")\n",
        "print(manhattan_distance)\n",
        "print(\"\\nEuclidean Distance:\")\n",
        "print(euclidean_distance)\n",
        "print(\"\\nCosine Similarity:\")\n",
        "print(cosine_similarity)\n",
        "print(\"\\nJaccard Similarity:\")\n",
        "print(jaccard_similarity_matrix)\n",
        "print(\"\\nGower Distance:\")\n",
        "print(gower_dist_matrix)\n",
        "\n"
      ]
    }
  ]
}