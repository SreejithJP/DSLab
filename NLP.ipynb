{
  "nbformat": 4,
  "nbformat_minor": 0,
  "metadata": {
    "colab": {
      "provenance": []
    },
    "kernelspec": {
      "name": "python3",
      "display_name": "Python 3"
    },
    "language_info": {
      "name": "python"
    }
  },
  "cells": [
    {
      "cell_type": "markdown",
      "source": [
        "# Natural Language Processing (NLP) Tasks\n",
        "\n",
        "Basic NLP includes tasks that divide the text into pieces (e.g., sentences, tokens, noun phrases), provide alternative forms for thoses pieces (e.g., lemmatization, stemming), and provide annotations/labels for those pieces (e.g., part-of-speech, position in a dependency parse tree).\n",
        "\n",
        "The main NLP tasks in the main packages are all organized around the concept of an annotation \"pipeline\" based on a given \"language model.\n",
        "\n",
        "For example, the pipeline for Stanford CoreNLP is depicted below. The text is first tokenized, then split into sentences, then tokens are tagged with respect to parts of speech, then the tokens are lemmatized, then the named entity recognizer is applied, and finally the dependency parser is applied. The output is an object from which all of those annotations can be accessed.\n",
        "\n",
        "CoreNLP Pipeline Source: https://stanfordnlp.github.io/CoreNLP/index.html"
      ],
      "metadata": {
        "id": "2EW_EaZfB5mF"
      }
    },
    {
      "cell_type": "markdown",
      "source": [
        "## NLTK (Natural Language Toolkit)\n",
        "\n",
        "NLTK is the longest established NLP library. It interfaces to “over 50 corpora and lexical resources such as WordNet\" (many standard corpora are available directly from NLTK).\n",
        "\n",
        "A **corpus** is a digitized collection of text. \"Corpus\" is pluralized as **corpora**."
      ],
      "metadata": {
        "id": "QTyDqjS1Fwbm"
      }
    },
    {
      "cell_type": "markdown",
      "source": [
        "### Tokenization\n",
        "It is the process of separating a paragraph into chunks or words, and it’s usually a first step in the process of text analysis.\n",
        "\n",
        "While some functions are available with the library itself, some modules require additional downloads.\n",
        "\n",
        "punkt is a module to work with tokenization"
      ],
      "metadata": {
        "id": "vXeLXZnoG1M0"
      }
    },
    {
      "cell_type": "code",
      "source": [
        "import nltk\n",
        "nltk.download('punkt')"
      ],
      "metadata": {
        "colab": {
          "base_uri": "https://localhost:8080/"
        },
        "id": "LGUv3RW1CU8r",
        "outputId": "801b1744-20e1-4dc8-fda8-23f0fc8f67ec"
      },
      "execution_count": null,
      "outputs": [
        {
          "output_type": "stream",
          "name": "stderr",
          "text": [
            "[nltk_data] Downloading package punkt to /root/nltk_data...\n",
            "[nltk_data]   Unzipping tokenizers/punkt.zip.\n"
          ]
        },
        {
          "output_type": "execute_result",
          "data": {
            "text/plain": [
              "True"
            ]
          },
          "metadata": {},
          "execution_count": 1
        }
      ]
    },
    {
      "cell_type": "markdown",
      "source": [
        "*word_tokenize*  splits a text into words and symbols and\n",
        " *sent_tokenize*  separates a paragraph into sentences"
      ],
      "metadata": {
        "id": "L8tLlsDYNWFU"
      }
    },
    {
      "cell_type": "code",
      "source": [
        "from nltk.tokenize import sent_tokenize\n",
        "#Text = \"Good morning, Long time, No see! How you doing? \"\n",
        "Text=\"Good to see you Mary. How are you doing? Good to see you too John. I'm Good, How are you? my God\"\n",
        "Tokenized = sent_tokenize(Text)\n",
        "print(Tokenized)"
      ],
      "metadata": {
        "colab": {
          "base_uri": "https://localhost:8080/"
        },
        "id": "FCEPuoaZOia1",
        "outputId": "642a3763-6bc6-46f6-d0fd-26861de7d4d0"
      },
      "execution_count": null,
      "outputs": [
        {
          "output_type": "stream",
          "name": "stdout",
          "text": [
            "['Good to see you Mary.', 'How are you doing?', 'Good to see you too John.', \"I'm Good, How are you?\", 'my God']\n"
          ]
        }
      ]
    },
    {
      "cell_type": "code",
      "source": [
        "Tokenized[0:2]"
      ],
      "metadata": {
        "colab": {
          "base_uri": "https://localhost:8080/"
        },
        "id": "py9mEkYgZOb9",
        "outputId": "96a0105c-48b3-4e24-ec52-98a52c64e930"
      },
      "execution_count": null,
      "outputs": [
        {
          "output_type": "execute_result",
          "data": {
            "text/plain": [
              "['Good to see you Mary.', 'How are you doing?']"
            ]
          },
          "metadata": {},
          "execution_count": 8
        }
      ]
    },
    {
      "cell_type": "code",
      "source": [
        "from nltk.tokenize import word_tokenize\n",
        "#Text = \"Good morning, Long time, No see! How you doing? \"\n",
        "Tokenized = word_tokenize(Text)\n",
        "print(Tokenized)"
      ],
      "metadata": {
        "colab": {
          "base_uri": "https://localhost:8080/"
        },
        "id": "J14JnXLFQn2_",
        "outputId": "6e3f683b-cc06-48a4-bd30-1f29050df85d"
      },
      "execution_count": null,
      "outputs": [
        {
          "output_type": "stream",
          "name": "stdout",
          "text": [
            "['Good', 'to', 'see', 'you', 'Mary', '.', 'How', 'are', 'you', 'doing', '?', 'Good', 'to', 'see', 'you', 'too', 'John', '.', 'I', \"'m\", 'Good', ',', 'How', 'are', 'you', '?', 'my', 'God']\n"
          ]
        }
      ]
    },
    {
      "cell_type": "markdown",
      "source": [
        "###Stop words\n",
        "A stop word is a commonly used word (such as “the”, “a”, “an”, “in”) that a search engine has been programmed to ignore. It’s important in certain situations to ignore such words, and thus having a dictionary of them can become really handy, especially when we need to deal with multiple languages. NLKT provides a module to work with step words, let’s download it next."
      ],
      "metadata": {
        "id": "Rl2pAGmyO87f"
      }
    },
    {
      "cell_type": "code",
      "source": [
        "import nltk\n",
        "nltk.download('stopwords')"
      ],
      "metadata": {
        "colab": {
          "base_uri": "https://localhost:8080/"
        },
        "id": "2UpDSxALPNKs",
        "outputId": "d381c1ef-46b9-47da-94f6-86597db18aa3"
      },
      "execution_count": null,
      "outputs": [
        {
          "output_type": "stream",
          "name": "stderr",
          "text": [
            "[nltk_data] Downloading package stopwords to /root/nltk_data...\n",
            "[nltk_data]   Package stopwords is already up-to-date!\n"
          ]
        },
        {
          "output_type": "execute_result",
          "data": {
            "text/plain": [
              "True"
            ]
          },
          "metadata": {},
          "execution_count": 10
        }
      ]
    },
    {
      "cell_type": "markdown",
      "source": [
        "Since we are given a simple list of words, we can simple print it to see all of them for a particular language:"
      ],
      "metadata": {
        "id": "Wt2tTdSIPice"
      }
    },
    {
      "cell_type": "code",
      "source": [
        "from nltk.corpus import stopwords\n",
        "stopwords = stopwords.words(\"english\")\n",
        "print(stopwords)"
      ],
      "metadata": {
        "colab": {
          "base_uri": "https://localhost:8080/"
        },
        "id": "MxltZVIjPjyQ",
        "outputId": "59944e50-4cbe-4bdf-ffab-8e3c1b1fda4d"
      },
      "execution_count": null,
      "outputs": [
        {
          "output_type": "stream",
          "name": "stdout",
          "text": [
            "['i', 'me', 'my', 'myself', 'we', 'our', 'ours', 'ourselves', 'you', \"you're\", \"you've\", \"you'll\", \"you'd\", 'your', 'yours', 'yourself', 'yourselves', 'he', 'him', 'his', 'himself', 'she', \"she's\", 'her', 'hers', 'herself', 'it', \"it's\", 'its', 'itself', 'they', 'them', 'their', 'theirs', 'themselves', 'what', 'which', 'who', 'whom', 'this', 'that', \"that'll\", 'these', 'those', 'am', 'is', 'are', 'was', 'were', 'be', 'been', 'being', 'have', 'has', 'had', 'having', 'do', 'does', 'did', 'doing', 'a', 'an', 'the', 'and', 'but', 'if', 'or', 'because', 'as', 'until', 'while', 'of', 'at', 'by', 'for', 'with', 'about', 'against', 'between', 'into', 'through', 'during', 'before', 'after', 'above', 'below', 'to', 'from', 'up', 'down', 'in', 'out', 'on', 'off', 'over', 'under', 'again', 'further', 'then', 'once', 'here', 'there', 'when', 'where', 'why', 'how', 'all', 'any', 'both', 'each', 'few', 'more', 'most', 'other', 'some', 'such', 'no', 'nor', 'not', 'only', 'own', 'same', 'so', 'than', 'too', 'very', 's', 't', 'can', 'will', 'just', 'don', \"don't\", 'should', \"should've\", 'now', 'd', 'll', 'm', 'o', 're', 've', 'y', 'ain', 'aren', \"aren't\", 'couldn', \"couldn't\", 'didn', \"didn't\", 'doesn', \"doesn't\", 'hadn', \"hadn't\", 'hasn', \"hasn't\", 'haven', \"haven't\", 'isn', \"isn't\", 'ma', 'mightn', \"mightn't\", 'mustn', \"mustn't\", 'needn', \"needn't\", 'shan', \"shan't\", 'shouldn', \"shouldn't\", 'wasn', \"wasn't\", 'weren', \"weren't\", 'won', \"won't\", 'wouldn', \"wouldn't\"]\n"
          ]
        }
      ]
    },
    {
      "cell_type": "markdown",
      "source": [
        "Stop words is a simple list of words, so we can operate with it very easily, for example by writing a small routing to get a list of words without stop words in it:"
      ],
      "metadata": {
        "id": "v1nfc983Pz8w"
      }
    },
    {
      "cell_type": "code",
      "source": [
        "for i in Tokenized:\n",
        "   if i not in stopwords:\n",
        "       print(i)"
      ],
      "metadata": {
        "id": "bF_sDnXvP3Pk",
        "colab": {
          "base_uri": "https://localhost:8080/"
        },
        "outputId": "128ef797-8b5b-4ed1-a3ff-edc0a15432d8"
      },
      "execution_count": null,
      "outputs": [
        {
          "output_type": "stream",
          "name": "stdout",
          "text": [
            "Good\n",
            "see\n",
            "Mary\n",
            ".\n",
            "How\n",
            "?\n",
            "Good\n",
            "see\n",
            "John\n",
            ".\n",
            "I\n",
            "'m\n",
            "Good\n",
            ",\n",
            "How\n",
            "?\n",
            "God\n"
          ]
        }
      ]
    },
    {
      "cell_type": "code",
      "source": [
        "from string import punctuation\n",
        "punctuation = list(punctuation)\n",
        "print(punctuation)"
      ],
      "metadata": {
        "colab": {
          "base_uri": "https://localhost:8080/"
        },
        "id": "NeHbn_YKRm_w",
        "outputId": "caefceec-ac15-47af-9ea4-3c24893b4f7d"
      },
      "execution_count": null,
      "outputs": [
        {
          "output_type": "stream",
          "name": "stdout",
          "text": [
            "['!', '\"', '#', '$', '%', '&', \"'\", '(', ')', '*', '+', ',', '-', '.', '/', ':', ';', '<', '=', '>', '?', '@', '[', '\\\\', ']', '^', '_', '`', '{', '|', '}', '~']\n"
          ]
        }
      ]
    },
    {
      "cell_type": "code",
      "source": [
        "for i in Tokenized:\n",
        "   if i not in stopwords and i not in punctuation:\n",
        "       print(i)"
      ],
      "metadata": {
        "colab": {
          "base_uri": "https://localhost:8080/"
        },
        "id": "5g87UHUwSC9t",
        "outputId": "ad22b105-f2b8-4190-9067-f61f83f0f7f9"
      },
      "execution_count": null,
      "outputs": [
        {
          "output_type": "stream",
          "name": "stdout",
          "text": [
            "Good\n",
            "see\n",
            "Mary\n",
            "How\n",
            "Good\n",
            "see\n",
            "John\n",
            "I\n",
            "'m\n",
            "Good\n",
            "How\n",
            "God\n"
          ]
        }
      ]
    },
    {
      "cell_type": "markdown",
      "source": [
        "#Stemming\n",
        "Stemming is the process to which we transform a given word into its stem word (root word). For example, if the given word is ‘lately’, then the stemming will cut ‘ly’."
      ],
      "metadata": {
        "id": "7oPptU5lWaah"
      }
    },
    {
      "cell_type": "code",
      "source": [
        "from nltk.stem import PorterStemmer\n",
        "ps = PorterStemmer()\n",
        "words = [\"Loving\", \"Chocolate\", \"Retrieved\", \"Being\",\"Went\",\"gone\",\"going\"]\n",
        "for i in words:\n",
        "   print(ps.stem(i))"
      ],
      "metadata": {
        "colab": {
          "base_uri": "https://localhost:8080/"
        },
        "id": "PH6cPH9TWujN",
        "outputId": "9470608a-051d-4adf-a974-24ea0488e5a4"
      },
      "execution_count": null,
      "outputs": [
        {
          "output_type": "stream",
          "name": "stdout",
          "text": [
            "love\n",
            "chocol\n",
            "retriev\n",
            "be\n",
            "went\n",
            "gone\n",
            "go\n"
          ]
        }
      ]
    },
    {
      "cell_type": "code",
      "source": [
        "from nltk.stem import SnowballStemmer\n",
        "ss = SnowballStemmer('english')\n",
        "words = [\"Loving\", \"Chocolate\", \"Retrieved\", \"Being\",\"Went\",\"gone\",\"going\"]\n",
        "for i in words:\n",
        "   print(ss.stem(i))"
      ],
      "metadata": {
        "colab": {
          "base_uri": "https://localhost:8080/"
        },
        "id": "h-h8PSnucwu6",
        "outputId": "ef33e473-926c-42d3-a793-0a06258046ba"
      },
      "execution_count": null,
      "outputs": [
        {
          "output_type": "stream",
          "name": "stdout",
          "text": [
            "love\n",
            "chocol\n",
            "retriev\n",
            "be\n",
            "went\n",
            "gone\n",
            "go\n"
          ]
        }
      ]
    },
    {
      "cell_type": "markdown",
      "source": [
        "#Lemmatization\n",
        "Lemmatization is similar to stemming but it brings context to the words. So it links words with similar meanings to one word. Lemmatization is preferred over Stemming because lemmatization does [morphological analysis](https://medium.com/@raghvendra.zarkar18/natural-language-processing-65f82c8dd7e0) of the words.\n",
        "The concept of lemmatization is very similar to stemming words but lemmatization converts it to its rel base word. Let’s see an example but before we do that we need to download the WordNet package (https://wordnet.princeton.edu/) using NLTK."
      ],
      "metadata": {
        "id": "E50glaYcXMr1"
      }
    },
    {
      "cell_type": "code",
      "source": [
        "# import these modules\n",
        "nltk.download('wordnet')\n",
        "from nltk.stem import WordNetLemmatizer\n",
        "nltk.download('omw-1.4')"
      ],
      "metadata": {
        "colab": {
          "base_uri": "https://localhost:8080/"
        },
        "id": "XnSGzA_RffTK",
        "outputId": "35e0feaa-d690-4752-fdfe-90383ca1f61f"
      },
      "execution_count": null,
      "outputs": [
        {
          "output_type": "stream",
          "name": "stderr",
          "text": [
            "[nltk_data] Downloading package wordnet to /root/nltk_data...\n",
            "[nltk_data] Downloading package omw-1.4 to /root/nltk_data...\n"
          ]
        },
        {
          "output_type": "execute_result",
          "data": {
            "text/plain": [
              "True"
            ]
          },
          "metadata": {},
          "execution_count": 17
        }
      ]
    },
    {
      "cell_type": "code",
      "source": [
        "lem= WordNetLemmatizer()\n",
        "print(\"rocks :\", lem.lemmatize(\"rocks\"))\n",
        "print(\"corpora :\", lem.lemmatize(\"corpora\"))\n",
        "print(\"better :\", lem.lemmatize(\"better\"))\n",
        "print(\"believes :\", lem.lemmatize(\"believes\"))\n",
        "print(\"Went :\", lem.lemmatize(\"Went\"))\n",
        "print(\"loves :\", lem.lemmatize(\"loves\"))"
      ],
      "metadata": {
        "colab": {
          "base_uri": "https://localhost:8080/"
        },
        "id": "c7HrRGlBghEj",
        "outputId": "5fdec8fc-42d6-4ffb-d112-8d2e0d167d3f"
      },
      "execution_count": null,
      "outputs": [
        {
          "output_type": "stream",
          "name": "stdout",
          "text": [
            "rocks : rock\n",
            "corpora : corpus\n",
            "better : better\n",
            "believes : belief\n",
            "Went : Went\n",
            "loves : love\n"
          ]
        }
      ]
    },
    {
      "cell_type": "markdown",
      "source": [
        " The package WordNetLemmatizer has also an argument called pos which stands for “part of speech” and you can specify if you want to get the verb or noun or the adjective of the word."
      ],
      "metadata": {
        "id": "jZtV73tyg8WR"
      }
    },
    {
      "cell_type": "code",
      "source": [
        "print(\"better :\", lem.lemmatize(\"better\", pos=\"a\"))\n",
        "print(\"better :\", lem.lemmatize(\"better\", pos=\"v\"))\n",
        "print(\"better :\", lem.lemmatize(\"better\", pos=\"n\"))\n",
        "print(\"believes :\", lem.lemmatize(\"believes\", pos='a'))\n",
        "print(\"believes :\", lem.lemmatize(\"believes\", pos='v'))\n",
        "print(\"believes :\", lem.lemmatize(\"believes\", pos='n'))\n",
        "print(\"went :\", lem.lemmatize(\"went\", pos='n'))\n",
        "print(\"went :\", lem.lemmatize(\"went\", pos='v'))\n",
        "print(\"went :\", lem.lemmatize(\"went\", pos='a'))"
      ],
      "metadata": {
        "colab": {
          "base_uri": "https://localhost:8080/"
        },
        "id": "nVDHif7bgnLg",
        "outputId": "2194dd5a-b74d-4832-c00e-5cc0964cfb57"
      },
      "execution_count": null,
      "outputs": [
        {
          "output_type": "stream",
          "name": "stdout",
          "text": [
            "better : good\n",
            "better : better\n",
            "better : better\n",
            "believes : believes\n",
            "believes : believe\n",
            "believes : belief\n",
            "went : went\n",
            "went : go\n",
            "went : went\n"
          ]
        }
      ]
    },
    {
      "cell_type": "markdown",
      "source": [
        "##Counting Words\n",
        "NLTK provides us a neat method to calculate the frequency of words in a text called FreqDist."
      ],
      "metadata": {
        "id": "6hXuQ29mi3V7"
      }
    },
    {
      "cell_type": "code",
      "source": [
        "words = [\"men\", \"teacher\", \"men\", \"woman\"]\n",
        "FreqDist = nltk.FreqDist(words)\n",
        "for i,j in FreqDist.items():\n",
        "   print(i, \":\", j)"
      ],
      "metadata": {
        "colab": {
          "base_uri": "https://localhost:8080/"
        },
        "id": "ysaYiJNDi7-e",
        "outputId": "5a3ed3a9-b404-4a20-d98a-d4b93c91d053"
      },
      "execution_count": null,
      "outputs": [
        {
          "output_type": "stream",
          "name": "stdout",
          "text": [
            "men : 2\n",
            "teacher : 1\n",
            "woman : 1\n"
          ]
        }
      ]
    },
    {
      "cell_type": "markdown",
      "source": [
        "##Word groups\n",
        "Some words are being used together to give a specific meaning, for example “let’s go”, “best performance” and others. **Bigrams** is a method to extract pairs of connected words. **Trigrams** are the same as bigrams but with three words. Generally, by using the method **Ngrams** we can specify the words numbers"
      ],
      "metadata": {
        "id": "SjEh8SlmjUAR"
      }
    },
    {
      "cell_type": "code",
      "source": [
        "words = \"Visiting Indian Himalayas and Greek Athens as a truth seeker will surely be an amazing experience\"\n",
        "word_tokenize = nltk.word_tokenize(words)\n",
        "print(list(nltk.bigrams(word_tokenize)))"
      ],
      "metadata": {
        "colab": {
          "base_uri": "https://localhost:8080/"
        },
        "id": "-vYg6NBJjuRZ",
        "outputId": "34983f51-73c0-4742-f113-bf2a0f64280c"
      },
      "execution_count": null,
      "outputs": [
        {
          "output_type": "stream",
          "name": "stdout",
          "text": [
            "[('Visiting', 'Indian'), ('Indian', 'Himalayas'), ('Himalayas', 'and'), ('and', 'Greek'), ('Greek', 'Athens'), ('Athens', 'as'), ('as', 'a'), ('a', 'truth'), ('truth', 'seeker'), ('seeker', 'will'), ('will', 'surely'), ('surely', 'be'), ('be', 'an'), ('an', 'amazing'), ('amazing', 'experience')]\n"
          ]
        }
      ]
    },
    {
      "cell_type": "code",
      "source": [
        "print(list(nltk.trigrams(word_tokenize)))"
      ],
      "metadata": {
        "colab": {
          "base_uri": "https://localhost:8080/"
        },
        "id": "p500itjClxPg",
        "outputId": "562450c2-0aae-4856-ade4-c462109de8b7"
      },
      "execution_count": null,
      "outputs": [
        {
          "output_type": "stream",
          "name": "stdout",
          "text": [
            "[('Visiting', 'Indian', 'Himalayas'), ('Indian', 'Himalayas', 'and'), ('Himalayas', 'and', 'Greek'), ('and', 'Greek', 'Athens'), ('Greek', 'Athens', 'as'), ('Athens', 'as', 'a'), ('as', 'a', 'truth'), ('a', 'truth', 'seeker'), ('truth', 'seeker', 'will'), ('seeker', 'will', 'surely'), ('will', 'surely', 'be'), ('surely', 'be', 'an'), ('be', 'an', 'amazing'), ('an', 'amazing', 'experience')]\n"
          ]
        }
      ]
    },
    {
      "cell_type": "code",
      "source": [
        "print(list(nltk.ngrams(word_tokenize, 4)))"
      ],
      "metadata": {
        "colab": {
          "base_uri": "https://localhost:8080/"
        },
        "id": "NED48ZJgmdao",
        "outputId": "3132ff2f-b157-400b-b2e0-34f2d9c70cd5"
      },
      "execution_count": null,
      "outputs": [
        {
          "output_type": "stream",
          "name": "stdout",
          "text": [
            "[('Visiting', 'Indian', 'Himalayas', 'and'), ('Indian', 'Himalayas', 'and', 'Greek'), ('Himalayas', 'and', 'Greek', 'Athens'), ('and', 'Greek', 'Athens', 'as'), ('Greek', 'Athens', 'as', 'a'), ('Athens', 'as', 'a', 'truth'), ('as', 'a', 'truth', 'seeker'), ('a', 'truth', 'seeker', 'will'), ('truth', 'seeker', 'will', 'surely'), ('seeker', 'will', 'surely', 'be'), ('will', 'surely', 'be', 'an'), ('surely', 'be', 'an', 'amazing'), ('be', 'an', 'amazing', 'experience')]\n"
          ]
        }
      ]
    },
    {
      "cell_type": "markdown",
      "source": [
        "##Part of Speech (PoS) tagging\n",
        "\n",
        "[Pos tagging](https://web.stanford.edu/~jurafsky/slp3/slides/8_POSNER_intro_May_6_2021.pdf)\n",
        "\n",
        "There are eight main parts of speech - nouns, pronouns, adjectives, verbs, adverbs, prepositions, conjunctions and interjections. Most PoS are divided into sub-classes. POS Tagging simply means labeling words with their appropriate Part-Of-Speech. POS tagging is a supervised learning solution that uses features like the previous word, next word, is first letter capitalized etc. NLTK has a function to get pos tags and it works after tokenization process. The most popular tag set is Penn Treebank tagset which is the default NLTK tagger."
      ],
      "metadata": {
        "id": "0LGhQqWxm7oA"
      }
    },
    {
      "cell_type": "code",
      "source": [
        "nltk.download('averaged_perceptron_tagger')\n",
        "print(nltk.pos_tag(word_tokenize))"
      ],
      "metadata": {
        "colab": {
          "base_uri": "https://localhost:8080/"
        },
        "id": "y96c1sZYEJwW",
        "outputId": "5159e3e9-f413-4ff4-a283-0940dec7258a"
      },
      "execution_count": null,
      "outputs": [
        {
          "output_type": "stream",
          "name": "stderr",
          "text": [
            "[nltk_data] Downloading package averaged_perceptron_tagger to\n",
            "[nltk_data]     /root/nltk_data...\n"
          ]
        },
        {
          "output_type": "stream",
          "name": "stdout",
          "text": [
            "[('Visiting', 'VBG'), ('Indian', 'JJ'), ('Himalayas', 'NNP'), ('and', 'CC'), ('Greek', 'NNP'), ('Athens', 'NNP'), ('as', 'IN'), ('a', 'DT'), ('truth', 'NN'), ('seeker', 'NN'), ('will', 'MD'), ('surely', 'RB'), ('be', 'VB'), ('an', 'DT'), ('amazing', 'JJ'), ('experience', 'NN')]\n"
          ]
        },
        {
          "output_type": "stream",
          "name": "stderr",
          "text": [
            "[nltk_data]   Unzipping taggers/averaged_perceptron_tagger.zip.\n"
          ]
        }
      ]
    },
    {
      "cell_type": "markdown",
      "source": [
        "Full reference list"
      ],
      "metadata": {
        "id": "Sy0mxmR7riwC"
      }
    },
    {
      "cell_type": "markdown",
      "source": [
        "![pos tags.webp](data:image/webp;base64,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)"
      ],
      "metadata": {
        "id": "vTE8kTqPrVzZ"
      }
    },
    {
      "cell_type": "markdown",
      "source": [
        "##Chunking\n",
        "Chunking is a process of extracting phrases from unstructured text.Chunking works on top of POS tagging, it uses pos-tags as input and provides chunks as output. Similar to POS tags, there are a standard set of Chunk tags like Noun Phrase(NP), Verb Phrase (VP), etc. For example, chunking can be done to identify and thus group noun phrases or nouns alone, adjectives or adjective phrases, and so on. This is also known as shallow parsing.  Chunking is very important when you want to extract information from text such as Locations, Person Names etc.\n",
        "\n",
        "Chunking is used to get the required phrases from a given sentence. However, POS tagging can be used only to spot the parts of speech that every word of the sentence belongs to. When we have loads of descriptions or modifications around a particular word or the phrase of our interest, we use chunking to grab the required phrase alone, ignoring the rest around it. Hence, chunking paves a way to group the required phrases and exclude all the modifiers around them which are not necessary for our analysis. Summing up, chunking helps us extract the important words alone from lengthy descriptions. Thus, chunking is a step in information extraction.\n",
        "\n",
        "Interestingly, this process of chunking in NLP is extended to various other applications; for instance, to group fruits of a specific category, say, fruits rich in proteins as a group, fruits rich in vitamins as another group, and so on. Besides, chunking can also be used to group similar cars, say, cars supporting auto-gear into one group and the others which support manual gear into another chunk and so on."
      ],
      "metadata": {
        "id": "Ha8KUHmjGLs-"
      }
    },
    {
      "cell_type": "markdown",
      "source": [
        "###Types of Chunking\n",
        "\n",
        "Chunking up: It returns an overview of the information. It just helps us get a brief idea of the given data.\n",
        "\n",
        "Chunking down: It gives get detailed information.\n",
        "\n",
        "So, if you just want an insight, consider “chunking up” otherwise prefer “chunking down”."
      ],
      "metadata": {
        "id": "ai7pWLLaJi0-"
      }
    },
    {
      "cell_type": "markdown",
      "source": [
        "Chunking is done with the help of regular expressions."
      ],
      "metadata": {
        "id": "1OwnxmMfKuZw"
      }
    },
    {
      "cell_type": "code",
      "source": [
        "sample_text=\"\"\"\n",
        "Rama killed Ravana to save Sita from Lanka.The legend of the Ramayan is the most popular Indian epic.A lot of movies and serials have already\n",
        "been shot in several languages here in India based on the Ramayana.\n",
        "\"\"\"\n",
        "print(sample_text)"
      ],
      "metadata": {
        "colab": {
          "base_uri": "https://localhost:8080/"
        },
        "id": "1_6Qdt1rK33v",
        "outputId": "3be514d8-0592-4a4a-92bd-6b81960e12d4"
      },
      "execution_count": null,
      "outputs": [
        {
          "output_type": "stream",
          "name": "stdout",
          "text": [
            "\n",
            "Rama killed Ravana to save Sita from Lanka.The legend of the Ramayan is the most popular Indian epic.A lot of movies and serials have already\n",
            "been shot in several languages here in India based on the Ramayana.\n",
            "\n"
          ]
        }
      ]
    },
    {
      "cell_type": "markdown",
      "source": [
        "At first, the data has to be sentence tokenized and then word tokenized followed by tokenization, POS(part-of-speech) tagging is done for each word, in which the part-of-speech of every word will be identified. Now, we are interested only in the verb part-of-speech and wish to extract the same.\n",
        "Hence, in order to chunk, we combine the part of speech tags with regular expressions. Mainly from regular expressions, we are going to utilize the following:\n",
        "\n",
        "\\+ = match 1 or more repetitions\n",
        "\n",
        "? = match 0 or 1 repetitions.\n",
        "\n",
        "\\* = match 0 or more repetitions\n",
        "\n",
        ". = Any character except a new line"
      ],
      "metadata": {
        "id": "CqHhhRmOL3n0"
      }
    },
    {
      "cell_type": "code",
      "source": [
        "from nltk import RegexpParser\n",
        "from nltk.tree import *\n",
        "patterns= \"\"\"mychunk:{<NN.?>*<VBD.?>*<JJ.?>*<CC>?}\"\"\"\n",
        "chunker = RegexpParser(patterns)\n",
        "print(\"After Regex:\",chunker)"
      ],
      "metadata": {
        "colab": {
          "base_uri": "https://localhost:8080/"
        },
        "id": "qrB8cBoFrySi",
        "outputId": "ccfb8b42-7d43-444e-b0af-974608728dac"
      },
      "execution_count": null,
      "outputs": [
        {
          "output_type": "stream",
          "name": "stdout",
          "text": [
            "After Regex: chunk.RegexpParser with 1 stages:\n",
            "RegexpChunkParser with 1 rules:\n",
            "       <ChunkRule: '<NN.?>*<VBD.?>*<JJ.?>*<CC>?'>\n"
          ]
        }
      ]
    },
    {
      "cell_type": "code",
      "source": [
        "word_tokenize = nltk.word_tokenize(sample_text)\n",
        "tokens_tag =nltk.pos_tag(word_tokenize)\n",
        "print(\"After Token:\",tokens_tag)"
      ],
      "metadata": {
        "colab": {
          "base_uri": "https://localhost:8080/"
        },
        "id": "RFt4MmhcsIVa",
        "outputId": "4dd5db24-7925-4384-cb5c-3f9c962e1f6b"
      },
      "execution_count": null,
      "outputs": [
        {
          "output_type": "stream",
          "name": "stdout",
          "text": [
            "After Token: [('Rama', 'NNP'), ('killed', 'VBD'), ('Ravana', 'NNP'), ('to', 'TO'), ('save', 'VB'), ('Sita', 'NNP'), ('from', 'IN'), ('Lanka.The', 'NNP'), ('legend', 'NN'), ('of', 'IN'), ('the', 'DT'), ('Ramayan', 'NNP'), ('is', 'VBZ'), ('the', 'DT'), ('most', 'RBS'), ('popular', 'JJ'), ('Indian', 'JJ'), ('epic.A', 'NN'), ('lot', 'NN'), ('of', 'IN'), ('movies', 'NNS'), ('and', 'CC'), ('serials', 'NNS'), ('have', 'VBP'), ('already', 'RB'), ('been', 'VBN'), ('shot', 'VBN'), ('in', 'IN'), ('several', 'JJ'), ('languages', 'NNS'), ('here', 'RB'), ('in', 'IN'), ('India', 'NNP'), ('based', 'VBN'), ('on', 'IN'), ('the', 'DT'), ('Ramayana', 'NNP'), ('.', '.')]\n"
          ]
        }
      ]
    },
    {
      "cell_type": "code",
      "source": [
        "output = chunker.parse(tokens_tag)\n",
        "print(\"After Chunking\",output)"
      ],
      "metadata": {
        "colab": {
          "base_uri": "https://localhost:8080/"
        },
        "id": "1XzL-kcctiZ3",
        "outputId": "be8fdc06-7642-4ac1-be21-dc7dc3358c3b"
      },
      "execution_count": null,
      "outputs": [
        {
          "output_type": "stream",
          "name": "stdout",
          "text": [
            "After Chunking (S\n",
            "  (mychunk Rama/NNP killed/VBD)\n",
            "  (mychunk Ravana/NNP)\n",
            "  to/TO\n",
            "  save/VB\n",
            "  (mychunk Sita/NNP)\n",
            "  from/IN\n",
            "  (mychunk Lanka.The/NNP legend/NN)\n",
            "  of/IN\n",
            "  the/DT\n",
            "  (mychunk Ramayan/NNP)\n",
            "  is/VBZ\n",
            "  the/DT\n",
            "  most/RBS\n",
            "  (mychunk popular/JJ Indian/JJ)\n",
            "  (mychunk epic.A/NN lot/NN)\n",
            "  of/IN\n",
            "  (mychunk movies/NNS and/CC)\n",
            "  (mychunk serials/NNS)\n",
            "  have/VBP\n",
            "  already/RB\n",
            "  been/VBN\n",
            "  shot/VBN\n",
            "  in/IN\n",
            "  (mychunk several/JJ)\n",
            "  (mychunk languages/NNS)\n",
            "  here/RB\n",
            "  in/IN\n",
            "  (mychunk India/NNP)\n",
            "  based/VBN\n",
            "  on/IN\n",
            "  the/DT\n",
            "  (mychunk Ramayana/NNP)\n",
            "  ./.)\n"
          ]
        }
      ]
    },
    {
      "cell_type": "code",
      "source": [
        "output.pretty_print()"
      ],
      "metadata": {
        "colab": {
          "base_uri": "https://localhost:8080/"
        },
        "id": "4GoAL5rCx-Ni",
        "outputId": "84b0718a-3089-4642-fa31-9b11e73a506d"
      },
      "execution_count": null,
      "outputs": [
        {
          "output_type": "stream",
          "name": "stdout",
          "text": [
            "                                                                                                                                            S                                                                                                                                                                                                                                               \n",
            "   _________________________________________________________________________________________________________________________________________|________________________________________________________________________________________________________________________________________________________________________________________________________________________________________        \n",
            "  |      |       |      |     |      |      |       |       |      |         |         |        |       |      |      |       |       |     |     |           mychunk             mychunk   mychunk                mychunk             mychunk              mychunk                     mychunk                   mychunk          mychunk    mychunk      mychunk     mychunk    mychunk   \n",
            "  |      |       |      |     |      |      |       |       |      |         |         |        |       |      |      |       |       |     |     |      ________|________           |         |            __________|________           |           _________|________           ________|______          _________|______          |          |            |           |          |       \n",
            "to/TO save/VB from/IN of/IN the/DT is/VBZ the/DT most/RBS of/IN have/VBP already/RB been/VBN shot/VBN in/IN here/RB in/IN based/VBN on/IN the/DT ./. Rama/NNP         killed/VBD Ravana/NNP Sita/NNP Lanka.The/NNP         legend/NN Ramayan/NNP popular/JJ         Indian/JJ epic.A/NN         lot/NN movies/NNS         and/CC serials/NNS several/JJ languages/NNS India/NNP Ramayana/NNP\n",
            "\n"
          ]
        }
      ]
    },
    {
      "cell_type": "code",
      "source": [
        "text = \"Discover the essence of spirituality from authentic Gurus, and steer clear of pseudo Gurus – they abound. During a visit to Rishikesh, I encountered genuine masters after investing tremendous effort.\"\n",
        "tokens = nltk.word_tokenize(text)\n",
        "print(tokens)\n",
        "tag = nltk.pos_tag(tokens)\n",
        "print(tag)\n",
        "grammar = \"NP: {<DT>?<JJ>*<NN>}\"\n",
        "cp  =nltk.RegexpParser(grammar)\n",
        "result = cp.parse(tag)\n",
        "print(result)\n",
        "result.pretty_print()\n",
        "#result.draw()    # It will draw the pattern graphically which can be seen in Noun Phrase chunking"
      ],
      "metadata": {
        "colab": {
          "base_uri": "https://localhost:8080/"
        },
        "id": "zIwDIfSwwxA6",
        "outputId": "6fccd6f7-fdd9-41e3-e975-5b9d017715ff"
      },
      "execution_count": null,
      "outputs": [
        {
          "output_type": "stream",
          "name": "stdout",
          "text": [
            "['Discover', 'the', 'essence', 'of', 'spirituality', 'from', 'authentic', 'Gurus', ',', 'and', 'steer', 'clear', 'of', 'pseudo', 'Gurus', '–', 'they', 'abound', '.', 'During', 'a', 'visit', 'to', 'Rishikesh', ',', 'I', 'encountered', 'genuine', 'masters', 'after', 'investing', 'tremendous', 'effort', '.']\n",
            "[('Discover', 'IN'), ('the', 'DT'), ('essence', 'NN'), ('of', 'IN'), ('spirituality', 'NN'), ('from', 'IN'), ('authentic', 'JJ'), ('Gurus', 'NNP'), (',', ','), ('and', 'CC'), ('steer', 'VBD'), ('clear', 'JJ'), ('of', 'IN'), ('pseudo', 'JJ'), ('Gurus', 'NNP'), ('–', 'NNP'), ('they', 'PRP'), ('abound', 'VBP'), ('.', '.'), ('During', 'IN'), ('a', 'DT'), ('visit', 'NN'), ('to', 'TO'), ('Rishikesh', 'NNP'), (',', ','), ('I', 'PRP'), ('encountered', 'VBD'), ('genuine', 'JJ'), ('masters', 'NNS'), ('after', 'IN'), ('investing', 'VBG'), ('tremendous', 'JJ'), ('effort', 'NN'), ('.', '.')]\n",
            "(S\n",
            "  Discover/IN\n",
            "  (NP the/DT essence/NN)\n",
            "  of/IN\n",
            "  (NP spirituality/NN)\n",
            "  from/IN\n",
            "  authentic/JJ\n",
            "  Gurus/NNP\n",
            "  ,/,\n",
            "  and/CC\n",
            "  steer/VBD\n",
            "  clear/JJ\n",
            "  of/IN\n",
            "  pseudo/JJ\n",
            "  Gurus/NNP\n",
            "  –/NNP\n",
            "  they/PRP\n",
            "  abound/VBP\n",
            "  ./.\n",
            "  During/IN\n",
            "  (NP a/DT visit/NN)\n",
            "  to/TO\n",
            "  Rishikesh/NNP\n",
            "  ,/,\n",
            "  I/PRP\n",
            "  encountered/VBD\n",
            "  genuine/JJ\n",
            "  masters/NNS\n",
            "  after/IN\n",
            "  investing/VBG\n",
            "  (NP tremendous/JJ effort/NN)\n",
            "  ./.)\n",
            "                                                                                                                                           S                                                                                                                                                                                        \n",
            "      _____________________________________________________________________________________________________________________________________|____________________________________________________________________________________________________________________________________________________________________________             \n",
            "     |        |      |         |           |      |    |        |        |       |       |         |       |      |         |       |      |       |         |        |    |          |            |           |         |           |        |          NP                   NP             NP                         NP          \n",
            "     |        |      |         |           |      |    |        |        |       |       |         |       |      |         |       |      |       |         |        |    |          |            |           |         |           |        |     _____|______              |          ____|_____             ________|______      \n",
            "Discover/IN of/IN from/IN authentic/JJ Gurus/NNP ,/, and/CC steer/VBD clear/JJ of/IN pseudo/JJ Gurus/NNP –/NNP they/PRP abound/VBP ./. During/IN to/TO Rishikesh/NNP ,/, I/PRP encountered/VBD genuine/JJ masters/NNS after/IN investing/VBG ./. the/DT     essence/NN spirituality/NN a/DT     visit/NN tremendous/JJ     effort/NN\n",
            "\n"
          ]
        }
      ]
    },
    {
      "cell_type": "markdown",
      "source": [
        "##Named Entity Recognition (NER)\n",
        "The tagged object can be passed to a named entity \"chunker.\" A chunker divides the tokens into \"chunks\" -- non-overlapping sequences of tokens"
      ],
      "metadata": {
        "id": "iVilVmn_rzuZ"
      }
    },
    {
      "cell_type": "code",
      "source": [
        "nltk.download('maxent_ne_chunker')\n",
        "nltk.download('words')\n"
      ],
      "metadata": {
        "colab": {
          "base_uri": "https://localhost:8080/"
        },
        "id": "zSOujIDa1QRQ",
        "outputId": "a6aca785-18b4-4c61-e895-331e8d1b0de6"
      },
      "execution_count": null,
      "outputs": [
        {
          "output_type": "stream",
          "name": "stderr",
          "text": [
            "[nltk_data] Downloading package maxent_ne_chunker to\n",
            "[nltk_data]     /root/nltk_data...\n",
            "[nltk_data]   Unzipping chunkers/maxent_ne_chunker.zip.\n",
            "[nltk_data] Downloading package words to /root/nltk_data...\n",
            "[nltk_data]   Unzipping corpora/words.zip.\n"
          ]
        },
        {
          "output_type": "execute_result",
          "data": {
            "text/plain": [
              "True"
            ]
          },
          "metadata": {},
          "execution_count": 40
        }
      ]
    },
    {
      "cell_type": "code",
      "source": [
        "Text = \"The russian president Vladimir Putin is in the Kremlin\"\n",
        "Tokenize = nltk.word_tokenize(Text)\n",
        "POS_tags = nltk.pos_tag(Tokenize)\n",
        "NameEn = nltk.ne_chunk(POS_tags)\n",
        "print(NameEn)"
      ],
      "metadata": {
        "colab": {
          "base_uri": "https://localhost:8080/"
        },
        "id": "roGGgTZG1cd7",
        "outputId": "3f73dbf9-5ed9-426b-a133-5394b9b09715"
      },
      "execution_count": null,
      "outputs": [
        {
          "output_type": "stream",
          "name": "stdout",
          "text": [
            "(S\n",
            "  The/DT\n",
            "  russian/JJ\n",
            "  president/NN\n",
            "  (PERSON Vladimir/NNP Putin/NNP)\n",
            "  is/VBZ\n",
            "  in/IN\n",
            "  the/DT\n",
            "  (FACILITY Kremlin/NNP))\n"
          ]
        }
      ]
    },
    {
      "cell_type": "code",
      "source": [
        "NameEn = nltk.ne_chunk(POS_tags,binary=False)\n",
        "print(NameEn)"
      ],
      "metadata": {
        "colab": {
          "base_uri": "https://localhost:8080/"
        },
        "id": "Wd3G79LK19qi",
        "outputId": "48b8b8a8-5ab1-4963-979a-7b8987590801"
      },
      "execution_count": null,
      "outputs": [
        {
          "output_type": "stream",
          "name": "stdout",
          "text": [
            "(S\n",
            "  The/DT\n",
            "  russian/JJ\n",
            "  president/NN\n",
            "  (PERSON Vladimir/NNP Putin/NNP)\n",
            "  is/VBZ\n",
            "  in/IN\n",
            "  the/DT\n",
            "  (FACILITY Kremlin/NNP))\n"
          ]
        }
      ]
    }
  ]
}